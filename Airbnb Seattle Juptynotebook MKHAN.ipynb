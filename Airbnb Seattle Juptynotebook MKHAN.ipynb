{
 "cells": [
  {
   "cell_type": "markdown",
   "metadata": {},
   "source": [
    "# Seattle Airbnb Data Analysis Project"
   ]
  },
  {
   "cell_type": "markdown",
   "metadata": {},
   "source": [
    "This sheet is a part of the Udacity data science nanodegree course, I have analyzed the Airbnb Seattle dataset of 2016."
   ]
  },
  {
   "cell_type": "markdown",
   "metadata": {},
   "source": [
    "# 1. Business Values:\n",
    "\n",
    "Following are the questions I will answer doing my work:\n",
    "\n",
    "1. What is the highest price of listing?\n",
    "2. What is the average monthly charged price? \n",
    "3. How fast Host respond?\n",
    "4. What are the popular neighbourhoods area and Most expensive\\cheapest neighbourhoods in Seattle?\n",
    "5. What are affects of reviewer ratings ?\n",
    "6. Does certain faclities impact on price?\n",
    "    "
   ]
  },
  {
   "cell_type": "markdown",
   "metadata": {},
   "source": [
    "# 2. Data Consolidation:\n",
    "Data gathering, wrangling and get results from data"
   ]
  },
  {
   "cell_type": "code",
   "execution_count": 3,
   "metadata": {},
   "outputs": [],
   "source": [
    "###Required Python Libraries\n",
    "\n",
    "import numpy as np\n",
    "import pandas as pd\n",
    "from IPython import display\n",
    "import matplotlib.pyplot as plt\n",
    "from matplotlib import cm as cm\n",
    "%matplotlib inline\n"
   ]
  },
  {
   "cell_type": "code",
   "execution_count": 4,
   "metadata": {},
   "outputs": [],
   "source": [
    "### Read the CSV files\n",
    "\n",
    "df_calendar=pd.read_csv('calendar.csv')\n",
    "df_listing=pd.read_csv('listings.csv')"
   ]
  },
  {
   "cell_type": "code",
   "execution_count": 5,
   "metadata": {},
   "outputs": [
    {
     "data": {
      "text/html": [
       "<div>\n",
       "<style scoped>\n",
       "    .dataframe tbody tr th:only-of-type {\n",
       "        vertical-align: middle;\n",
       "    }\n",
       "\n",
       "    .dataframe tbody tr th {\n",
       "        vertical-align: top;\n",
       "    }\n",
       "\n",
       "    .dataframe thead th {\n",
       "        text-align: right;\n",
       "    }\n",
       "</style>\n",
       "<table border=\"1\" class=\"dataframe\">\n",
       "  <thead>\n",
       "    <tr style=\"text-align: right;\">\n",
       "      <th></th>\n",
       "      <th>listing_id</th>\n",
       "      <th>date</th>\n",
       "      <th>available</th>\n",
       "      <th>price</th>\n",
       "    </tr>\n",
       "  </thead>\n",
       "  <tbody>\n",
       "    <tr>\n",
       "      <td>0</td>\n",
       "      <td>241032</td>\n",
       "      <td>2016-01-04</td>\n",
       "      <td>t</td>\n",
       "      <td>$85.00</td>\n",
       "    </tr>\n",
       "    <tr>\n",
       "      <td>1</td>\n",
       "      <td>241032</td>\n",
       "      <td>2016-01-05</td>\n",
       "      <td>t</td>\n",
       "      <td>$85.00</td>\n",
       "    </tr>\n",
       "    <tr>\n",
       "      <td>2</td>\n",
       "      <td>241032</td>\n",
       "      <td>2016-01-06</td>\n",
       "      <td>f</td>\n",
       "      <td>NaN</td>\n",
       "    </tr>\n",
       "    <tr>\n",
       "      <td>3</td>\n",
       "      <td>241032</td>\n",
       "      <td>2016-01-07</td>\n",
       "      <td>f</td>\n",
       "      <td>NaN</td>\n",
       "    </tr>\n",
       "    <tr>\n",
       "      <td>4</td>\n",
       "      <td>241032</td>\n",
       "      <td>2016-01-08</td>\n",
       "      <td>f</td>\n",
       "      <td>NaN</td>\n",
       "    </tr>\n",
       "    <tr>\n",
       "      <td>5</td>\n",
       "      <td>241032</td>\n",
       "      <td>2016-01-09</td>\n",
       "      <td>f</td>\n",
       "      <td>NaN</td>\n",
       "    </tr>\n",
       "    <tr>\n",
       "      <td>6</td>\n",
       "      <td>241032</td>\n",
       "      <td>2016-01-10</td>\n",
       "      <td>f</td>\n",
       "      <td>NaN</td>\n",
       "    </tr>\n",
       "    <tr>\n",
       "      <td>7</td>\n",
       "      <td>241032</td>\n",
       "      <td>2016-01-11</td>\n",
       "      <td>f</td>\n",
       "      <td>NaN</td>\n",
       "    </tr>\n",
       "    <tr>\n",
       "      <td>8</td>\n",
       "      <td>241032</td>\n",
       "      <td>2016-01-12</td>\n",
       "      <td>f</td>\n",
       "      <td>NaN</td>\n",
       "    </tr>\n",
       "    <tr>\n",
       "      <td>9</td>\n",
       "      <td>241032</td>\n",
       "      <td>2016-01-13</td>\n",
       "      <td>t</td>\n",
       "      <td>$85.00</td>\n",
       "    </tr>\n",
       "  </tbody>\n",
       "</table>\n",
       "</div>"
      ],
      "text/plain": [
       "   listing_id        date available   price\n",
       "0      241032  2016-01-04         t  $85.00\n",
       "1      241032  2016-01-05         t  $85.00\n",
       "2      241032  2016-01-06         f     NaN\n",
       "3      241032  2016-01-07         f     NaN\n",
       "4      241032  2016-01-08         f     NaN\n",
       "5      241032  2016-01-09         f     NaN\n",
       "6      241032  2016-01-10         f     NaN\n",
       "7      241032  2016-01-11         f     NaN\n",
       "8      241032  2016-01-12         f     NaN\n",
       "9      241032  2016-01-13         t  $85.00"
      ]
     },
     "execution_count": 5,
     "metadata": {},
     "output_type": "execute_result"
    }
   ],
   "source": [
    "### looking the Calendar datasets first 10 row\n",
    "\n",
    "df_calendar.head(10)"
   ]
  },
  {
   "cell_type": "code",
   "execution_count": 6,
   "metadata": {},
   "outputs": [
    {
     "data": {
      "text/html": [
       "<div>\n",
       "<style scoped>\n",
       "    .dataframe tbody tr th:only-of-type {\n",
       "        vertical-align: middle;\n",
       "    }\n",
       "\n",
       "    .dataframe tbody tr th {\n",
       "        vertical-align: top;\n",
       "    }\n",
       "\n",
       "    .dataframe thead th {\n",
       "        text-align: right;\n",
       "    }\n",
       "</style>\n",
       "<table border=\"1\" class=\"dataframe\">\n",
       "  <thead>\n",
       "    <tr style=\"text-align: right;\">\n",
       "      <th></th>\n",
       "      <th>listing_id</th>\n",
       "      <th>date</th>\n",
       "      <th>available</th>\n",
       "      <th>price</th>\n",
       "    </tr>\n",
       "  </thead>\n",
       "  <tbody>\n",
       "    <tr>\n",
       "      <td>1393565</td>\n",
       "      <td>10208623</td>\n",
       "      <td>2016-12-29</td>\n",
       "      <td>f</td>\n",
       "      <td>NaN</td>\n",
       "    </tr>\n",
       "    <tr>\n",
       "      <td>1393566</td>\n",
       "      <td>10208623</td>\n",
       "      <td>2016-12-30</td>\n",
       "      <td>f</td>\n",
       "      <td>NaN</td>\n",
       "    </tr>\n",
       "    <tr>\n",
       "      <td>1393567</td>\n",
       "      <td>10208623</td>\n",
       "      <td>2016-12-31</td>\n",
       "      <td>f</td>\n",
       "      <td>NaN</td>\n",
       "    </tr>\n",
       "    <tr>\n",
       "      <td>1393568</td>\n",
       "      <td>10208623</td>\n",
       "      <td>2017-01-01</td>\n",
       "      <td>f</td>\n",
       "      <td>NaN</td>\n",
       "    </tr>\n",
       "    <tr>\n",
       "      <td>1393569</td>\n",
       "      <td>10208623</td>\n",
       "      <td>2017-01-02</td>\n",
       "      <td>f</td>\n",
       "      <td>NaN</td>\n",
       "    </tr>\n",
       "  </tbody>\n",
       "</table>\n",
       "</div>"
      ],
      "text/plain": [
       "         listing_id        date available price\n",
       "1393565    10208623  2016-12-29         f   NaN\n",
       "1393566    10208623  2016-12-30         f   NaN\n",
       "1393567    10208623  2016-12-31         f   NaN\n",
       "1393568    10208623  2017-01-01         f   NaN\n",
       "1393569    10208623  2017-01-02         f   NaN"
      ]
     },
     "execution_count": 6,
     "metadata": {},
     "output_type": "execute_result"
    }
   ],
   "source": [
    "###looking the Calendar datasets tail\n",
    "\n",
    "df_calendar.tail()"
   ]
  },
  {
   "cell_type": "code",
   "execution_count": 7,
   "metadata": {},
   "outputs": [
    {
     "data": {
      "text/html": [
       "<div>\n",
       "<style scoped>\n",
       "    .dataframe tbody tr th:only-of-type {\n",
       "        vertical-align: middle;\n",
       "    }\n",
       "\n",
       "    .dataframe tbody tr th {\n",
       "        vertical-align: top;\n",
       "    }\n",
       "\n",
       "    .dataframe thead th {\n",
       "        text-align: right;\n",
       "    }\n",
       "</style>\n",
       "<table border=\"1\" class=\"dataframe\">\n",
       "  <thead>\n",
       "    <tr style=\"text-align: right;\">\n",
       "      <th></th>\n",
       "      <th>id</th>\n",
       "      <th>listing_url</th>\n",
       "      <th>scrape_id</th>\n",
       "      <th>last_scraped</th>\n",
       "      <th>name</th>\n",
       "      <th>summary</th>\n",
       "      <th>space</th>\n",
       "      <th>description</th>\n",
       "      <th>experiences_offered</th>\n",
       "      <th>neighborhood_overview</th>\n",
       "      <th>...</th>\n",
       "      <th>review_scores_value</th>\n",
       "      <th>requires_license</th>\n",
       "      <th>license</th>\n",
       "      <th>jurisdiction_names</th>\n",
       "      <th>instant_bookable</th>\n",
       "      <th>cancellation_policy</th>\n",
       "      <th>require_guest_profile_picture</th>\n",
       "      <th>require_guest_phone_verification</th>\n",
       "      <th>calculated_host_listings_count</th>\n",
       "      <th>reviews_per_month</th>\n",
       "    </tr>\n",
       "  </thead>\n",
       "  <tbody>\n",
       "    <tr>\n",
       "      <td>0</td>\n",
       "      <td>241032</td>\n",
       "      <td>https://www.airbnb.com/rooms/241032</td>\n",
       "      <td>20160104002432</td>\n",
       "      <td>2016-01-04</td>\n",
       "      <td>Stylish Queen Anne Apartment</td>\n",
       "      <td>NaN</td>\n",
       "      <td>Make your self at home in this charming one-be...</td>\n",
       "      <td>Make your self at home in this charming one-be...</td>\n",
       "      <td>none</td>\n",
       "      <td>NaN</td>\n",
       "      <td>...</td>\n",
       "      <td>10.0</td>\n",
       "      <td>f</td>\n",
       "      <td>NaN</td>\n",
       "      <td>WASHINGTON</td>\n",
       "      <td>f</td>\n",
       "      <td>moderate</td>\n",
       "      <td>f</td>\n",
       "      <td>f</td>\n",
       "      <td>2</td>\n",
       "      <td>4.07</td>\n",
       "    </tr>\n",
       "    <tr>\n",
       "      <td>1</td>\n",
       "      <td>953595</td>\n",
       "      <td>https://www.airbnb.com/rooms/953595</td>\n",
       "      <td>20160104002432</td>\n",
       "      <td>2016-01-04</td>\n",
       "      <td>Bright &amp; Airy Queen Anne Apartment</td>\n",
       "      <td>Chemically sensitive? We've removed the irrita...</td>\n",
       "      <td>Beautiful, hypoallergenic apartment in an extr...</td>\n",
       "      <td>Chemically sensitive? We've removed the irrita...</td>\n",
       "      <td>none</td>\n",
       "      <td>Queen Anne is a wonderful, truly functional vi...</td>\n",
       "      <td>...</td>\n",
       "      <td>10.0</td>\n",
       "      <td>f</td>\n",
       "      <td>NaN</td>\n",
       "      <td>WASHINGTON</td>\n",
       "      <td>f</td>\n",
       "      <td>strict</td>\n",
       "      <td>t</td>\n",
       "      <td>t</td>\n",
       "      <td>6</td>\n",
       "      <td>1.48</td>\n",
       "    </tr>\n",
       "    <tr>\n",
       "      <td>2</td>\n",
       "      <td>3308979</td>\n",
       "      <td>https://www.airbnb.com/rooms/3308979</td>\n",
       "      <td>20160104002432</td>\n",
       "      <td>2016-01-04</td>\n",
       "      <td>New Modern House-Amazing water view</td>\n",
       "      <td>New modern house built in 2013.  Spectacular s...</td>\n",
       "      <td>Our house is modern, light and fresh with a wa...</td>\n",
       "      <td>New modern house built in 2013.  Spectacular s...</td>\n",
       "      <td>none</td>\n",
       "      <td>Upper Queen Anne is a charming neighborhood fu...</td>\n",
       "      <td>...</td>\n",
       "      <td>10.0</td>\n",
       "      <td>f</td>\n",
       "      <td>NaN</td>\n",
       "      <td>WASHINGTON</td>\n",
       "      <td>f</td>\n",
       "      <td>strict</td>\n",
       "      <td>f</td>\n",
       "      <td>f</td>\n",
       "      <td>2</td>\n",
       "      <td>1.15</td>\n",
       "    </tr>\n",
       "    <tr>\n",
       "      <td>3</td>\n",
       "      <td>7421966</td>\n",
       "      <td>https://www.airbnb.com/rooms/7421966</td>\n",
       "      <td>20160104002432</td>\n",
       "      <td>2016-01-04</td>\n",
       "      <td>Queen Anne Chateau</td>\n",
       "      <td>A charming apartment that sits atop Queen Anne...</td>\n",
       "      <td>NaN</td>\n",
       "      <td>A charming apartment that sits atop Queen Anne...</td>\n",
       "      <td>none</td>\n",
       "      <td>NaN</td>\n",
       "      <td>...</td>\n",
       "      <td>NaN</td>\n",
       "      <td>f</td>\n",
       "      <td>NaN</td>\n",
       "      <td>WASHINGTON</td>\n",
       "      <td>f</td>\n",
       "      <td>flexible</td>\n",
       "      <td>f</td>\n",
       "      <td>f</td>\n",
       "      <td>1</td>\n",
       "      <td>NaN</td>\n",
       "    </tr>\n",
       "    <tr>\n",
       "      <td>4</td>\n",
       "      <td>278830</td>\n",
       "      <td>https://www.airbnb.com/rooms/278830</td>\n",
       "      <td>20160104002432</td>\n",
       "      <td>2016-01-04</td>\n",
       "      <td>Charming craftsman 3 bdm house</td>\n",
       "      <td>Cozy family craftman house in beautiful neighb...</td>\n",
       "      <td>Cozy family craftman house in beautiful neighb...</td>\n",
       "      <td>Cozy family craftman house in beautiful neighb...</td>\n",
       "      <td>none</td>\n",
       "      <td>We are in the beautiful neighborhood of Queen ...</td>\n",
       "      <td>...</td>\n",
       "      <td>9.0</td>\n",
       "      <td>f</td>\n",
       "      <td>NaN</td>\n",
       "      <td>WASHINGTON</td>\n",
       "      <td>f</td>\n",
       "      <td>strict</td>\n",
       "      <td>f</td>\n",
       "      <td>f</td>\n",
       "      <td>1</td>\n",
       "      <td>0.89</td>\n",
       "    </tr>\n",
       "  </tbody>\n",
       "</table>\n",
       "<p>5 rows × 92 columns</p>\n",
       "</div>"
      ],
      "text/plain": [
       "        id                           listing_url       scrape_id last_scraped  \\\n",
       "0   241032   https://www.airbnb.com/rooms/241032  20160104002432   2016-01-04   \n",
       "1   953595   https://www.airbnb.com/rooms/953595  20160104002432   2016-01-04   \n",
       "2  3308979  https://www.airbnb.com/rooms/3308979  20160104002432   2016-01-04   \n",
       "3  7421966  https://www.airbnb.com/rooms/7421966  20160104002432   2016-01-04   \n",
       "4   278830   https://www.airbnb.com/rooms/278830  20160104002432   2016-01-04   \n",
       "\n",
       "                                  name  \\\n",
       "0         Stylish Queen Anne Apartment   \n",
       "1   Bright & Airy Queen Anne Apartment   \n",
       "2  New Modern House-Amazing water view   \n",
       "3                   Queen Anne Chateau   \n",
       "4       Charming craftsman 3 bdm house   \n",
       "\n",
       "                                             summary  \\\n",
       "0                                                NaN   \n",
       "1  Chemically sensitive? We've removed the irrita...   \n",
       "2  New modern house built in 2013.  Spectacular s...   \n",
       "3  A charming apartment that sits atop Queen Anne...   \n",
       "4  Cozy family craftman house in beautiful neighb...   \n",
       "\n",
       "                                               space  \\\n",
       "0  Make your self at home in this charming one-be...   \n",
       "1  Beautiful, hypoallergenic apartment in an extr...   \n",
       "2  Our house is modern, light and fresh with a wa...   \n",
       "3                                                NaN   \n",
       "4  Cozy family craftman house in beautiful neighb...   \n",
       "\n",
       "                                         description experiences_offered  \\\n",
       "0  Make your self at home in this charming one-be...                none   \n",
       "1  Chemically sensitive? We've removed the irrita...                none   \n",
       "2  New modern house built in 2013.  Spectacular s...                none   \n",
       "3  A charming apartment that sits atop Queen Anne...                none   \n",
       "4  Cozy family craftman house in beautiful neighb...                none   \n",
       "\n",
       "                               neighborhood_overview  ... review_scores_value  \\\n",
       "0                                                NaN  ...                10.0   \n",
       "1  Queen Anne is a wonderful, truly functional vi...  ...                10.0   \n",
       "2  Upper Queen Anne is a charming neighborhood fu...  ...                10.0   \n",
       "3                                                NaN  ...                 NaN   \n",
       "4  We are in the beautiful neighborhood of Queen ...  ...                 9.0   \n",
       "\n",
       "  requires_license license jurisdiction_names instant_bookable  \\\n",
       "0                f     NaN         WASHINGTON                f   \n",
       "1                f     NaN         WASHINGTON                f   \n",
       "2                f     NaN         WASHINGTON                f   \n",
       "3                f     NaN         WASHINGTON                f   \n",
       "4                f     NaN         WASHINGTON                f   \n",
       "\n",
       "  cancellation_policy  require_guest_profile_picture  \\\n",
       "0            moderate                              f   \n",
       "1              strict                              t   \n",
       "2              strict                              f   \n",
       "3            flexible                              f   \n",
       "4              strict                              f   \n",
       "\n",
       "  require_guest_phone_verification calculated_host_listings_count  \\\n",
       "0                                f                              2   \n",
       "1                                t                              6   \n",
       "2                                f                              2   \n",
       "3                                f                              1   \n",
       "4                                f                              1   \n",
       "\n",
       "  reviews_per_month  \n",
       "0              4.07  \n",
       "1              1.48  \n",
       "2              1.15  \n",
       "3               NaN  \n",
       "4              0.89  \n",
       "\n",
       "[5 rows x 92 columns]"
      ]
     },
     "execution_count": 7,
     "metadata": {},
     "output_type": "execute_result"
    }
   ],
   "source": [
    "### looking the Listings dataset first 5 row\n",
    "\n",
    "df_listing.head(5)"
   ]
  },
  {
   "cell_type": "markdown",
   "metadata": {},
   "source": [
    "## Data Analytic of Calendar dataset\n",
    "\n",
    "1. Find the number of rows and columns\n",
    "2. Find the Missing values\n",
    "3. Calendar Data statistic and datatypes\n",
    "4. Data Wrangling: <ul>\n",
    "    <li>Clean and convert Price from String to Float </li>\n",
    "    <li>Convert dates to Months</li>\n",
    "    </ul>"
   ]
  },
  {
   "cell_type": "code",
   "execution_count": 8,
   "metadata": {},
   "outputs": [
    {
     "name": "stdout",
     "output_type": "stream",
     "text": [
      "Number of rows and columns: (1393570, 4)\n",
      "\n",
      "\n",
      "Percentage of Missing values: listing_id     0.000000\n",
      "date           0.000000\n",
      "available      0.000000\n",
      "price         32.938998\n",
      "dtype: float64\n",
      "\n"
     ]
    }
   ],
   "source": [
    "### Data Analytic of Calendar dataset\n",
    "\n",
    "# Number of rows and columns\n",
    "print('Number of rows and columns:',df_calendar.shape)\n",
    "print()\n",
    "print()\n",
    "\n",
    "# Number of missing values in Dataset\n",
    "print('Percentage of Missing values:',(df_calendar.isnull().sum()/len(df_calendar))*100)\n",
    "print()"
   ]
  },
  {
   "cell_type": "code",
   "execution_count": 9,
   "metadata": {},
   "outputs": [
    {
     "data": {
      "text/html": [
       "<div>\n",
       "<style scoped>\n",
       "    .dataframe tbody tr th:only-of-type {\n",
       "        vertical-align: middle;\n",
       "    }\n",
       "\n",
       "    .dataframe tbody tr th {\n",
       "        vertical-align: top;\n",
       "    }\n",
       "\n",
       "    .dataframe thead th {\n",
       "        text-align: right;\n",
       "    }\n",
       "</style>\n",
       "<table border=\"1\" class=\"dataframe\">\n",
       "  <thead>\n",
       "    <tr style=\"text-align: right;\">\n",
       "      <th></th>\n",
       "      <th>listing_id</th>\n",
       "      <th>date</th>\n",
       "      <th>available</th>\n",
       "      <th>price</th>\n",
       "    </tr>\n",
       "  </thead>\n",
       "  <tbody>\n",
       "    <tr>\n",
       "      <td>count</td>\n",
       "      <td>1.393570e+06</td>\n",
       "      <td>1393570</td>\n",
       "      <td>1393570</td>\n",
       "      <td>934542</td>\n",
       "    </tr>\n",
       "    <tr>\n",
       "      <td>unique</td>\n",
       "      <td>NaN</td>\n",
       "      <td>365</td>\n",
       "      <td>2</td>\n",
       "      <td>669</td>\n",
       "    </tr>\n",
       "    <tr>\n",
       "      <td>top</td>\n",
       "      <td>NaN</td>\n",
       "      <td>2016-08-16</td>\n",
       "      <td>t</td>\n",
       "      <td>$150.00</td>\n",
       "    </tr>\n",
       "    <tr>\n",
       "      <td>freq</td>\n",
       "      <td>NaN</td>\n",
       "      <td>3818</td>\n",
       "      <td>934542</td>\n",
       "      <td>36646</td>\n",
       "    </tr>\n",
       "    <tr>\n",
       "      <td>mean</td>\n",
       "      <td>5.550111e+06</td>\n",
       "      <td>NaN</td>\n",
       "      <td>NaN</td>\n",
       "      <td>NaN</td>\n",
       "    </tr>\n",
       "    <tr>\n",
       "      <td>std</td>\n",
       "      <td>2.962274e+06</td>\n",
       "      <td>NaN</td>\n",
       "      <td>NaN</td>\n",
       "      <td>NaN</td>\n",
       "    </tr>\n",
       "    <tr>\n",
       "      <td>min</td>\n",
       "      <td>3.335000e+03</td>\n",
       "      <td>NaN</td>\n",
       "      <td>NaN</td>\n",
       "      <td>NaN</td>\n",
       "    </tr>\n",
       "    <tr>\n",
       "      <td>25%</td>\n",
       "      <td>3.258213e+06</td>\n",
       "      <td>NaN</td>\n",
       "      <td>NaN</td>\n",
       "      <td>NaN</td>\n",
       "    </tr>\n",
       "    <tr>\n",
       "      <td>50%</td>\n",
       "      <td>6.118244e+06</td>\n",
       "      <td>NaN</td>\n",
       "      <td>NaN</td>\n",
       "      <td>NaN</td>\n",
       "    </tr>\n",
       "    <tr>\n",
       "      <td>75%</td>\n",
       "      <td>8.035212e+06</td>\n",
       "      <td>NaN</td>\n",
       "      <td>NaN</td>\n",
       "      <td>NaN</td>\n",
       "    </tr>\n",
       "    <tr>\n",
       "      <td>max</td>\n",
       "      <td>1.034016e+07</td>\n",
       "      <td>NaN</td>\n",
       "      <td>NaN</td>\n",
       "      <td>NaN</td>\n",
       "    </tr>\n",
       "  </tbody>\n",
       "</table>\n",
       "</div>"
      ],
      "text/plain": [
       "          listing_id        date available    price\n",
       "count   1.393570e+06     1393570   1393570   934542\n",
       "unique           NaN         365         2      669\n",
       "top              NaN  2016-08-16         t  $150.00\n",
       "freq             NaN        3818    934542    36646\n",
       "mean    5.550111e+06         NaN       NaN      NaN\n",
       "std     2.962274e+06         NaN       NaN      NaN\n",
       "min     3.335000e+03         NaN       NaN      NaN\n",
       "25%     3.258213e+06         NaN       NaN      NaN\n",
       "50%     6.118244e+06         NaN       NaN      NaN\n",
       "75%     8.035212e+06         NaN       NaN      NaN\n",
       "max     1.034016e+07         NaN       NaN      NaN"
      ]
     },
     "execution_count": 9,
     "metadata": {},
     "output_type": "execute_result"
    }
   ],
   "source": [
    "### Data Analytic of Calendar dataset\n",
    "\n",
    "# Describe command to get the data statistic\n",
    "df_calendar.describe(include='all')"
   ]
  },
  {
   "cell_type": "code",
   "execution_count": 10,
   "metadata": {},
   "outputs": [
    {
     "data": {
      "text/plain": [
       "listing_id     int64\n",
       "date          object\n",
       "available     object\n",
       "price         object\n",
       "dtype: object"
      ]
     },
     "execution_count": 10,
     "metadata": {},
     "output_type": "execute_result"
    }
   ],
   "source": [
    "# Calendar dataset datatype finding\n",
    "\n",
    "df_calendar.dtypes"
   ]
  },
  {
   "cell_type": "code",
   "execution_count": 11,
   "metadata": {},
   "outputs": [],
   "source": [
    "### Data Cleaning Part\n",
    "\n",
    "# Str conversion and remove the comma and dollar sign.\n",
    "# Conversion to float\n",
    "\n",
    "df_calendar[\"price\"]=df_calendar[\"price\"].astype(str).str.replace(',','')\n",
    "df_calendar[\"price\"]=df_calendar[\"price\"].astype(str).str.replace('$','')\n",
    "\n",
    "df_calendar[\"price\"]=df_calendar[\"price\"].astype(float)"
   ]
  },
  {
   "cell_type": "code",
   "execution_count": 12,
   "metadata": {},
   "outputs": [
    {
     "data": {
      "text/plain": [
       "0    85.0\n",
       "1    85.0\n",
       "2     0.0\n",
       "3     0.0\n",
       "4     0.0\n",
       "Name: price, dtype: float64"
      ]
     },
     "execution_count": 12,
     "metadata": {},
     "output_type": "execute_result"
    }
   ],
   "source": [
    "### Data Cleaning Part\n",
    "# Replace the missing price values and convert to 0. It would not affect the data set'  \n",
    "\n",
    "df_calendar[\"price\"].fillna(0, inplace=True)\n",
    "df_calendar[\"price\"].head()"
   ]
  },
  {
   "cell_type": "code",
   "execution_count": 13,
   "metadata": {},
   "outputs": [
    {
     "name": "stdout",
     "output_type": "stream",
     "text": [
      " Start and End Date range:  2016-01-04 to  2017-01-02\n",
      "\n",
      "\n"
     ]
    },
    {
     "data": {
      "text/plain": [
       "0    1\n",
       "1    1\n",
       "2    1\n",
       "3    1\n",
       "4    1\n",
       "Name: Month, dtype: int64"
      ]
     },
     "execution_count": 13,
     "metadata": {},
     "output_type": "execute_result"
    }
   ],
   "source": [
    "### Data Cleaning Part\n",
    "\n",
    "## Convert dates to Months\n",
    "\n",
    "# First find the date range (start and end date).\n",
    "\n",
    "print(\" Start and End Date range: \",df_calendar['date'].min(),\"to \", df_calendar['date'].max())\n",
    "print()\n",
    "print()\n",
    "\n",
    "## convert date to months\n",
    "\n",
    "df_calendar['date_column'] = pd.to_datetime(df_calendar['date'])\n",
    "\n",
    "df_calendar['Month']=df_calendar['date_column'].dt.month\n",
    "\n",
    "df_calendar['Month'].head()"
   ]
  },
  {
   "cell_type": "markdown",
   "metadata": {},
   "source": [
    "##  Business Values Analysis "
   ]
  },
  {
   "cell_type": "code",
   "execution_count": 14,
   "metadata": {},
   "outputs": [
    {
     "name": "stdout",
     "output_type": "stream",
     "text": [
      " Total amount earnings in full year: $ 128915264.0\n"
     ]
    }
   ],
   "source": [
    "### Sum of all prices charged through the year\n",
    "\n",
    "total_earning=np.sum(df_calendar[\"price\"])\n",
    "print(\" Total amount earnings in full year: $\",total_earning)"
   ]
  },
  {
   "cell_type": "code",
   "execution_count": 15,
   "metadata": {},
   "outputs": [
    {
     "name": "stdout",
     "output_type": "stream",
     "text": [
      "Month\n",
      "1     114540\n",
      "2     110722\n",
      "3     118358\n",
      "4     114540\n",
      "5     118358\n",
      "6     114540\n",
      "7     118358\n",
      "8     118358\n",
      "9     114540\n",
      "10    118358\n",
      "11    114540\n",
      "12    118358\n",
      "Name: price, dtype: int64\n"
     ]
    }
   ],
   "source": [
    "### Sum of all prices charged per month\n",
    "\n",
    "monthly_earning=df_calendar.groupby('Month')['price'].count()\n",
    "print(monthly_earning)"
   ]
  },
  {
   "cell_type": "code",
   "execution_count": 16,
   "metadata": {},
   "outputs": [
    {
     "data": {
      "text/plain": [
       "Text(0, 0.5, 'monthly_earning')"
      ]
     },
     "execution_count": 16,
     "metadata": {},
     "output_type": "execute_result"
    },
    {
     "data": {
      "image/png": "[encoded data removed]",
      "text/plain": [
       "<Figure size 720x360 with 1 Axes>"
      ]
     },
     "metadata": {
      "needs_background": "light"
     },
     "output_type": "display_data"
    }
   ],
   "source": [
    "monthly_earning=df_calendar.groupby('Month')['price'].count().plot(figsize=(10,5),color = 'g')\n",
    "plt.ylabel('monthly_earning')"
   ]
  },
  {
   "cell_type": "code",
   "execution_count": 17,
   "metadata": {},
   "outputs": [
    {
     "name": "stdout",
     "output_type": "stream",
     "text": [
      "Average price per listing for the year: $ 33765.0\n",
      "\n",
      "Average price charged per listing: $ 93.0\n"
     ]
    }
   ],
   "source": [
    "### Average price charged per listing for the year\n",
    "\n",
    "avg_price=total_earning/df_calendar['listing_id'].nunique()  \n",
    "print(\"Average price per listing for the year: $\",round(avg_price,0))\n",
    "print()\n",
    "\n",
    "\n",
    "### Average price charged per listing \n",
    "\n",
    "print(\"Average price charged per listing: $\", round(df_calendar['price'].mean(),0))"
   ]
  },
  {
   "cell_type": "code",
   "execution_count": 18,
   "metadata": {},
   "outputs": [
    {
     "data": {
      "text/plain": [
       "listing_id\n",
       "3335        101.589041\n",
       "4291         82.000000\n",
       "5682         45.668493\n",
       "6606         92.849315\n",
       "7369         12.342466\n",
       "               ...    \n",
       "10332096     40.000000\n",
       "10334184    118.684932\n",
       "10339144      0.000000\n",
       "10339145    237.904110\n",
       "10340165     42.175342\n",
       "Name: price, Length: 3818, dtype: float64"
      ]
     },
     "execution_count": 18,
     "metadata": {},
     "output_type": "execute_result"
    }
   ],
   "source": [
    "### Average price charged per listings\n",
    "\n",
    "mean_price_listing=df_calendar.groupby('listing_id')['price'].mean()\n",
    "mean_price_listing"
   ]
  },
  {
   "cell_type": "code",
   "execution_count": 19,
   "metadata": {},
   "outputs": [
    {
     "name": "stdout",
     "output_type": "stream",
     "text": [
      "Top 10 most expensive listings Avg price: $ 814.0\n"
     ]
    }
   ],
   "source": [
    "### Top 10 most expensive listings \"Avg price\"\n",
    "\n",
    "print(\"Top 10 most expensive listings Avg price: $\",round(mean_price_listing.nlargest(10).mean(),0))"
   ]
  },
  {
   "cell_type": "code",
   "execution_count": 20,
   "metadata": {},
   "outputs": [
    {
     "name": "stdout",
     "output_type": "stream",
     "text": [
      "Most available Listings through the year: available\n",
      "f    33.0\n",
      "t    67.0\n",
      "Name: listing_id, dtype: float64\n"
     ]
    }
   ],
   "source": [
    "### Most available Listings through the year\n",
    "\n",
    "listing_avaialble=(df_calendar.groupby('available')['listing_id'].count()/df_calendar.shape[0])*100\n",
    "\n",
    "print(\"Most available Listings through the year:\", round(listing_avaialble,0))"
   ]
  },
  {
   "cell_type": "code",
   "execution_count": 21,
   "metadata": {},
   "outputs": [
    {
     "data": {
      "text/plain": [
       "Month\n",
       "1      69.683499\n",
       "2      82.308439\n",
       "3      91.233047\n",
       "4      89.683700\n",
       "5      94.281823\n",
       "6      99.453597\n",
       "7      95.377854\n",
       "8      97.181255\n",
       "9      96.612092\n",
       "10     95.444659\n",
       "11     96.879911\n",
       "12    100.958803\n",
       "Name: price, dtype: float64"
      ]
     },
     "execution_count": 21,
     "metadata": {},
     "output_type": "execute_result"
    }
   ],
   "source": [
    "### Listings average Price charged per month\n",
    "\n",
    "df_calendar.groupby('Month')['price'].mean()"
   ]
  },
  {
   "cell_type": "code",
   "execution_count": 22,
   "metadata": {
    "scrolled": false
   },
   "outputs": [
    {
     "data": {
      "text/plain": [
       "Text(0, 0.5, 'Average Price')"
      ]
     },
     "execution_count": 22,
     "metadata": {},
     "output_type": "execute_result"
    },
    {
     "data": {
      "image/png": "[encoded data removed]",
      "text/plain": [
       "<Figure size 720x360 with 1 Axes>"
      ]
     },
     "metadata": {
      "needs_background": "light"
     },
     "output_type": "display_data"
    }
   ],
   "source": [
    "month_price=df_calendar.groupby('Month')['price'].mean().plot(figsize=(10,5),color = 'g')\n",
    "plt.ylabel('Average Price')"
   ]
  },
  {
   "cell_type": "markdown",
   "metadata": {},
   "source": [
    "# Data Analytic of Listing dataset\n",
    "\n",
    "1. Find the number of rows and columns and Missing Values\n",
    "2. Describe the variables in the dataset and look at the datatypes\n",
    "3. Data Wrangling: Clean/convert Price from String to Float\n",
    "4. Find all the categorical and quantitative variables\n",
    "5. Business Values of Listings data"
   ]
  },
  {
   "cell_type": "code",
   "execution_count": 23,
   "metadata": {
    "scrolled": true
   },
   "outputs": [
    {
     "name": "stdout",
     "output_type": "stream",
     "text": [
      "Number of rows and columns: (3818, 92)\n",
      "\n",
      "\n",
      "Percentage of Missing values: id                                   0.000000\n",
      "listing_url                          0.000000\n",
      "scrape_id                            0.000000\n",
      "last_scraped                         0.000000\n",
      "name                                 0.000000\n",
      "                                      ...    \n",
      "cancellation_policy                  0.000000\n",
      "require_guest_profile_picture        0.000000\n",
      "require_guest_phone_verification     0.000000\n",
      "calculated_host_listings_count       0.000000\n",
      "reviews_per_month                   16.422211\n",
      "Length: 92, dtype: float64\n",
      "\n"
     ]
    }
   ],
   "source": [
    "### For the listings dataset\n",
    "\n",
    "# Number of rows and columns\n",
    "print('Number of rows and columns:',df_listing.shape)\n",
    "print()\n",
    "print()\n",
    "\n",
    "\n",
    "# Number of missing values\n",
    "\n",
    "print('Percentage of Missing values:',(df_listing.isnull().sum()/len(df_listing))*100)\n",
    "print()\n"
   ]
  },
  {
   "cell_type": "code",
   "execution_count": 24,
   "metadata": {},
   "outputs": [
    {
     "name": "stdout",
     "output_type": "stream",
     "text": [
      "                  id                           listing_url     scrape_id  \\\n",
      "count   3.818000e+03                                  3818  3.818000e+03   \n",
      "unique           NaN                                  3818           NaN   \n",
      "top              NaN  https://www.airbnb.com/rooms/6610942           NaN   \n",
      "freq             NaN                                     1           NaN   \n",
      "mean    5.550111e+06                                   NaN  2.016010e+13   \n",
      "std     2.962660e+06                                   NaN  0.000000e+00   \n",
      "min     3.335000e+03                                   NaN  2.016010e+13   \n",
      "25%     3.258256e+06                                   NaN  2.016010e+13   \n",
      "50%     6.118244e+06                                   NaN  2.016010e+13   \n",
      "75%     8.035127e+06                                   NaN  2.016010e+13   \n",
      "max     1.034016e+07                                   NaN  2.016010e+13   \n",
      "\n",
      "       last_scraped                    name  \\\n",
      "count          3818                    3818   \n",
      "unique            1                    3792   \n",
      "top      2016-01-04  Capitol Hill Apartment   \n",
      "freq           3818                       3   \n",
      "mean            NaN                     NaN   \n",
      "std             NaN                     NaN   \n",
      "min             NaN                     NaN   \n",
      "25%             NaN                     NaN   \n",
      "50%             NaN                     NaN   \n",
      "75%             NaN                     NaN   \n",
      "max             NaN                     NaN   \n",
      "\n",
      "                                                  summary  \\\n",
      "count                                                3641   \n",
      "unique                                               3478   \n",
      "top     This is a modern fully-furnished studio apartm...   \n",
      "freq                                                   15   \n",
      "mean                                                  NaN   \n",
      "std                                                   NaN   \n",
      "min                                                   NaN   \n",
      "25%                                                   NaN   \n",
      "50%                                                   NaN   \n",
      "75%                                                   NaN   \n",
      "max                                                   NaN   \n",
      "\n",
      "                                                    space  \\\n",
      "count                                                3249   \n",
      "unique                                               3119   \n",
      "top     *Note: This fall, there will be major renovati...   \n",
      "freq                                                   14   \n",
      "mean                                                  NaN   \n",
      "std                                                   NaN   \n",
      "min                                                   NaN   \n",
      "25%                                                   NaN   \n",
      "50%                                                   NaN   \n",
      "75%                                                   NaN   \n",
      "max                                                   NaN   \n",
      "\n",
      "                                              description experiences_offered  \\\n",
      "count                                                3818                3818   \n",
      "unique                                               3742                   1   \n",
      "top     Our space is a mix of a hostel and a home. We ...                none   \n",
      "freq                                                   10                3818   \n",
      "mean                                                  NaN                 NaN   \n",
      "std                                                   NaN                 NaN   \n",
      "min                                                   NaN                 NaN   \n",
      "25%                                                   NaN                 NaN   \n",
      "50%                                                   NaN                 NaN   \n",
      "75%                                                   NaN                 NaN   \n",
      "max                                                   NaN                 NaN   \n",
      "\n",
      "                                    neighborhood_overview  ...  \\\n",
      "count                                                2786  ...   \n",
      "unique                                               2506  ...   \n",
      "top     Wallingford is a mostly-residential neighborho...  ...   \n",
      "freq                                                   17  ...   \n",
      "mean                                                  NaN  ...   \n",
      "std                                                   NaN  ...   \n",
      "min                                                   NaN  ...   \n",
      "25%                                                   NaN  ...   \n",
      "50%                                                   NaN  ...   \n",
      "75%                                                   NaN  ...   \n",
      "max                                                   NaN  ...   \n",
      "\n",
      "       review_scores_value requires_license license jurisdiction_names  \\\n",
      "count          3162.000000             3818     0.0               3818   \n",
      "unique                 NaN                1     NaN                  1   \n",
      "top                    NaN                f     NaN         WASHINGTON   \n",
      "freq                   NaN             3818     NaN               3818   \n",
      "mean              9.452245              NaN     NaN                NaN   \n",
      "std               0.750259              NaN     NaN                NaN   \n",
      "min               2.000000              NaN     NaN                NaN   \n",
      "25%               9.000000              NaN     NaN                NaN   \n",
      "50%              10.000000              NaN     NaN                NaN   \n",
      "75%              10.000000              NaN     NaN                NaN   \n",
      "max              10.000000              NaN     NaN                NaN   \n",
      "\n",
      "       instant_bookable cancellation_policy  require_guest_profile_picture  \\\n",
      "count              3818                3818                           3818   \n",
      "unique                2                   3                              2   \n",
      "top                   f              strict                              f   \n",
      "freq               3227                1417                           3497   \n",
      "mean                NaN                 NaN                            NaN   \n",
      "std                 NaN                 NaN                            NaN   \n",
      "min                 NaN                 NaN                            NaN   \n",
      "25%                 NaN                 NaN                            NaN   \n",
      "50%                 NaN                 NaN                            NaN   \n",
      "75%                 NaN                 NaN                            NaN   \n",
      "max                 NaN                 NaN                            NaN   \n",
      "\n",
      "       require_guest_phone_verification calculated_host_listings_count  \\\n",
      "count                              3818                    3818.000000   \n",
      "unique                                2                            NaN   \n",
      "top                                   f                            NaN   \n",
      "freq                               3443                            NaN   \n",
      "mean                                NaN                       2.946307   \n",
      "std                                 NaN                       5.893029   \n",
      "min                                 NaN                       1.000000   \n",
      "25%                                 NaN                       1.000000   \n",
      "50%                                 NaN                       1.000000   \n",
      "75%                                 NaN                       2.000000   \n",
      "max                                 NaN                      37.000000   \n",
      "\n",
      "       reviews_per_month  \n",
      "count        3191.000000  \n",
      "unique               NaN  \n",
      "top                  NaN  \n",
      "freq                 NaN  \n",
      "mean            2.078919  \n",
      "std             1.822348  \n",
      "min             0.020000  \n",
      "25%             0.695000  \n",
      "50%             1.540000  \n",
      "75%             3.000000  \n",
      "max            12.150000  \n",
      "\n",
      "[11 rows x 92 columns]\n"
     ]
    }
   ],
   "source": [
    "# Describe the variables in the dataset and look at the datatypes\n",
    "\n",
    "print(df_listing.describe(include='all'))"
   ]
  },
  {
   "cell_type": "code",
   "execution_count": 25,
   "metadata": {},
   "outputs": [],
   "source": [
    "# Data Wrangling: Clean/convert Price from String to Float\n",
    "\n",
    "df_listing[\"price\"]=df_listing[\"price\"].astype(str).str.replace('$','')\n",
    "\n",
    "df_listing[\"price\"]=df_listing[\"price\"].astype(str).str.replace(',','')\n",
    "\n",
    "df_listing[\"price\"]=df_listing[\"price\"].astype(float)"
   ]
  },
  {
   "cell_type": "code",
   "execution_count": 26,
   "metadata": {},
   "outputs": [
    {
     "data": {
      "text/plain": [
       "Index(['listing_url', 'last_scraped', 'name', 'summary', 'space',\n",
       "       'description', 'experiences_offered', 'neighborhood_overview', 'notes',\n",
       "       'transit', 'thumbnail_url', 'medium_url', 'picture_url',\n",
       "       'xl_picture_url', 'host_url', 'host_name', 'host_since',\n",
       "       'host_location', 'host_about', 'host_response_time',\n",
       "       'host_response_rate', 'host_acceptance_rate', 'host_is_superhost',\n",
       "       'host_thumbnail_url', 'host_picture_url', 'host_neighbourhood',\n",
       "       'host_verifications', 'host_has_profile_pic', 'host_identity_verified',\n",
       "       'street', 'neighbourhood', 'neighbourhood_cleansed',\n",
       "       'neighbourhood_group_cleansed', 'city', 'state', 'zipcode', 'market',\n",
       "       'smart_location', 'country_code', 'country', 'is_location_exact',\n",
       "       'property_type', 'room_type', 'bed_type', 'amenities', 'weekly_price',\n",
       "       'monthly_price', 'security_deposit', 'cleaning_fee', 'extra_people',\n",
       "       'calendar_updated', 'has_availability', 'calendar_last_scraped',\n",
       "       'first_review', 'last_review', 'requires_license', 'jurisdiction_names',\n",
       "       'instant_bookable', 'cancellation_policy',\n",
       "       'require_guest_profile_picture', 'require_guest_phone_verification'],\n",
       "      dtype='object')"
      ]
     },
     "execution_count": 26,
     "metadata": {},
     "output_type": "execute_result"
    }
   ],
   "source": [
    "# Categorical variables identification\n",
    "\n",
    "df_listing.select_dtypes(include=\"object\").columns"
   ]
  },
  {
   "cell_type": "code",
   "execution_count": 27,
   "metadata": {
    "scrolled": true
   },
   "outputs": [
    {
     "data": {
      "text/plain": [
       "Index(['id', 'scrape_id', 'host_id', 'host_listings_count',\n",
       "       'host_total_listings_count', 'latitude', 'longitude', 'accommodates',\n",
       "       'bathrooms', 'bedrooms', 'beds', 'square_feet', 'price',\n",
       "       'guests_included', 'minimum_nights', 'maximum_nights',\n",
       "       'availability_30', 'availability_60', 'availability_90',\n",
       "       'availability_365', 'number_of_reviews', 'review_scores_rating',\n",
       "       'review_scores_accuracy', 'review_scores_cleanliness',\n",
       "       'review_scores_checkin', 'review_scores_communication',\n",
       "       'review_scores_location', 'review_scores_value', 'license',\n",
       "       'calculated_host_listings_count', 'reviews_per_month'],\n",
       "      dtype='object')"
      ]
     },
     "execution_count": 27,
     "metadata": {},
     "output_type": "execute_result"
    }
   ],
   "source": [
    "# Quantitative variables identification\n",
    "\n",
    "df_listing.select_dtypes(include=(\"float64\",\"int64\")).columns"
   ]
  },
  {
   "cell_type": "markdown",
   "metadata": {},
   "source": [
    "##  Business Values Analysis of Listings dataset\n",
    "1. Price Values change  Analysis\n",
    "2. Host Response Analysis\n",
    "3. Popluar Neighbourhood Analysis\n",
    "4. Reviewer's ratings affect the customer or price "
   ]
  },
  {
   "cell_type": "markdown",
   "metadata": {},
   "source": [
    "### 1. Price Values change analysis"
   ]
  },
  {
   "cell_type": "code",
   "execution_count": 48,
   "metadata": {
    "scrolled": true
   },
   "outputs": [
    {
     "data": {
      "text/plain": [
       "Text(0.5, 1.0, 'Top 10 listings charging the highest price')"
      ]
     },
     "execution_count": 48,
     "metadata": {},
     "output_type": "execute_result"
    },
    {
     "data": {
      "image/png": "[encoded data removed]",
      "text/plain": [
       "<Figure size 432x288 with 1 Axes>"
      ]
     },
     "metadata": {
      "needs_background": "light"
     },
     "output_type": "display_data"
    }
   ],
   "source": [
    "# Highest charging price listings\n",
    "\n",
    "mean_price_listing=df_calendar.groupby('listing_id')['price'].mean()\n",
    "mean_price_listing.nlargest(10).plot(kind=\"barh\",figsize=(8,7),color = \"b\",fontsize=12);\n",
    "plt.xlabel('Price charged',fontsize=14)\n",
    "plt.ylabel('Listing_id',fontsize=14)\n",
    "plt.axvline(mean_price_listing.nlargest(10).mean(),color='g',linestyle='--', linewidth=4)\n",
    "plt.title(\"Top 10 listings charging the highest price\",fontsize=17)\n",
    "\n",
    "# Average price of top 10= $814"
   ]
  },
  {
   "cell_type": "code",
   "execution_count": 29,
   "metadata": {},
   "outputs": [
    {
     "data": {
      "text/plain": [
       "<matplotlib.legend.Legend at 0x21161957308>"
      ]
     },
     "execution_count": 29,
     "metadata": {},
     "output_type": "execute_result"
    },
    {
     "data": {
      "image/png": "[encoded data removed]",
      "text/plain": [
       "<Figure size 576x504 with 1 Axes>"
      ]
     },
     "metadata": {
      "needs_background": "light"
     },
     "output_type": "display_data"
    }
   ],
   "source": [
    "# The months with highest price\n",
    "\n",
    "mth_price_listing=df_calendar.groupby('Month')['price'].mean()\n",
    "mth_price_listing.plot(kind=\"bar\",figsize=(8,7),color = 'b',fontsize=12);\n",
    "plt.xlabel('Month',fontsize=14)\n",
    "plt.ylabel('Average Price',fontsize=14)\n",
    "plt.title(\"Avg Price charged per month\",fontsize=17)\n",
    "plt.axhline(mth_price_listing.mean(),color='g',linestyle='--',linewidth=4)\n",
    "plt.legend()\n",
    "\n",
    "# Average monthlu price= $92"
   ]
  },
  {
   "cell_type": "markdown",
   "metadata": {},
   "source": [
    "### Charged Price Observation:<br>\n",
    "Highest price is recorded in June (Summer vacation time) and December (Christmas vacation time) which reflects that vacation time is busiest time that tend to rise price.\n",
    "In Q1 2016, price charged was lower than the average for the whole year due to low demand time. "
   ]
  },
  {
   "cell_type": "markdown",
   "metadata": {},
   "source": [
    "###  2. Host Response Analysis"
   ]
  },
  {
   "cell_type": "code",
   "execution_count": 49,
   "metadata": {
    "scrolled": true
   },
   "outputs": [
    {
     "data": {
      "text/plain": [
       "within an hour        1692\n",
       "within a few hours     968\n",
       "within a day           597\n",
       "a few days or more      38\n",
       "Name: host_response_time, dtype: int64"
      ]
     },
     "execution_count": 49,
     "metadata": {},
     "output_type": "execute_result"
    }
   ],
   "source": [
    "# Host response time\n",
    "\n",
    "df_listing['host_response_time'].value_counts()"
   ]
  },
  {
   "cell_type": "code",
   "execution_count": 31,
   "metadata": {
    "scrolled": false
   },
   "outputs": [
    {
     "data": {
      "image/png": "[encoded data removed]",
      "text/plain": [
       "<Figure size 720x432 with 1 Axes>"
      ]
     },
     "metadata": {
      "needs_background": "light"
     },
     "output_type": "display_data"
    }
   ],
   "source": [
    "# Host_response_time Plot\n",
    "\n",
    "host_response_vals = df_listing['host_response_time'].value_counts()\n",
    "(host_response_vals/df_listing.shape[0]).plot(kind=\"bar\",figsize=(10,6),color = 'g');\n",
    "plt.title(\"Host Response Times\");\n"
   ]
  },
  {
   "cell_type": "markdown",
   "metadata": {},
   "source": [
    "### Host Response Times Observation:\n",
    "Apporx half of hosts respond within an hour and impact is discussed in last task."
   ]
  },
  {
   "cell_type": "markdown",
   "metadata": {},
   "source": [
    "### 3. Popular Neighborhood Analysis"
   ]
  },
  {
   "cell_type": "code",
   "execution_count": 53,
   "metadata": {},
   "outputs": [
    {
     "data": {
      "image/png": "[encoded data removed]",
      "text/plain": [
       "<Figure size 720x504 with 1 Axes>"
      ]
     },
     "metadata": {
      "needs_background": "light"
     },
     "output_type": "display_data"
    }
   ],
   "source": [
    "# Top 10 popular neighbour hoods\n",
    "neighbourhood=df_listing['neighbourhood_cleansed'].value_counts()\n",
    "\n",
    "((neighbourhood[0:10]/df_listing.shape[0])*100).plot(kind=\"bar\",figsize=(10,7),color = 'b',fontsize=12);\n",
    "plt.ylabel('% Listing population',fontsize=14)\n",
    "plt.xlabel('Neighbourhoods',fontsize=14)\n",
    "plt.title(\"Top 10 popular neighbourhoods in Seattle\",fontsize=17);"
   ]
  },
  {
   "cell_type": "code",
   "execution_count": 33,
   "metadata": {
    "scrolled": true
   },
   "outputs": [
    {
     "data": {
      "text/plain": [
       "Text(0.5, 0, 'Neighbourhoods')"
      ]
     },
     "execution_count": 33,
     "metadata": {},
     "output_type": "execute_result"
    },
    {
     "data": {
      "image/png": "[encoded data removed]",
      "text/plain": [
       "<Figure size 936x288 with 1 Axes>"
      ]
     },
     "metadata": {
      "needs_background": "light"
     },
     "output_type": "display_data"
    }
   ],
   "source": [
    "# Average price per neighbourhood\n",
    "neighbourhood_price=df_listing.groupby('neighbourhood_cleansed')['price'].mean().plot(figsize=(13,4),color = 'g')\n",
    "plt.xlabel('Neighbourhoods',fontsize= 17)"
   ]
  },
  {
   "cell_type": "code",
   "execution_count": 54,
   "metadata": {},
   "outputs": [
    {
     "data": {
      "image/png": "[encoded data removed]",
      "text/plain": [
       "<Figure size 720x504 with 1 Axes>"
      ]
     },
     "metadata": {
      "needs_background": "light"
     },
     "output_type": "display_data"
    }
   ],
   "source": [
    "# Top 10 expensive neighbourhoods\n",
    "top10_nh = df_listing.groupby(['neighbourhood_cleansed'])[['price']].mean().sort_values(\"price\",ascending=False).head(10)\n",
    "top10_nh.plot(kind=\"bar\",figsize=(10,7),color = 'b',fontsize=14)\n",
    "plt.ylabel('% Listing population',fontsize=14)\n",
    "plt.xlabel('Neighbourhoods',fontsize=14)\n",
    "\n",
    "plt.title(\"Top 10 most expensive neighbourhoods in Seattle\",fontsize=17);"
   ]
  },
  {
   "cell_type": "code",
   "execution_count": 55,
   "metadata": {},
   "outputs": [
    {
     "data": {
      "image/png": "[encoded data removed]",
      "text/plain": [
       "<Figure size 720x504 with 1 Axes>"
      ]
     },
     "metadata": {
      "needs_background": "light"
     },
     "output_type": "display_data"
    }
   ],
   "source": [
    "# 10 Cheapest neighbourhoods\n",
    "bottom10_nh = df_listing.groupby(['neighbourhood_cleansed'])[['price']].mean().sort_values(\"price\",ascending=True).head(10)\n",
    "bottom10_nh.plot(kind=\"bar\",figsize=(10,7),color = 'b',fontsize=14)\n",
    "plt.ylabel('% Listing population',fontsize=14)\n",
    "plt.xlabel('Neighbourhoods',fontsize=14)\n",
    "plt.title(\" 10 Lowest priced neighbourhoods in Seattle\",fontsize=17);"
   ]
  },
  {
   "cell_type": "markdown",
   "metadata": {},
   "source": [
    "### Neighborhoods areas Observation:\n",
    "\n",
    "20% of the properties are located in Broadway, Belltown and Wallingford. \n",
    "Southeast Magnolia, Portage Bay and Westlake are expensive areas.\n",
    "Rainier Beach, Olympic Hills and South Delridge are cheaper areas."
   ]
  },
  {
   "cell_type": "markdown",
   "metadata": {},
   "source": [
    "### 4. Reviewer's ratings affect the customer or price"
   ]
  },
  {
   "cell_type": "code",
   "execution_count": 36,
   "metadata": {
    "scrolled": true
   },
   "outputs": [
    {
     "data": {
      "text/html": [
       "<div>\n",
       "<style scoped>\n",
       "    .dataframe tbody tr th:only-of-type {\n",
       "        vertical-align: middle;\n",
       "    }\n",
       "\n",
       "    .dataframe tbody tr th {\n",
       "        vertical-align: top;\n",
       "    }\n",
       "\n",
       "    .dataframe thead th {\n",
       "        text-align: right;\n",
       "    }\n",
       "</style>\n",
       "<table border=\"1\" class=\"dataframe\">\n",
       "  <thead>\n",
       "    <tr style=\"text-align: right;\">\n",
       "      <th></th>\n",
       "      <th>review_scores_rating</th>\n",
       "      <th>review_scores_accuracy</th>\n",
       "      <th>review_scores_cleanliness</th>\n",
       "      <th>review_scores_checkin</th>\n",
       "      <th>review_scores_communication</th>\n",
       "      <th>review_scores_location</th>\n",
       "      <th>review_scores_value</th>\n",
       "      <th>price</th>\n",
       "    </tr>\n",
       "  </thead>\n",
       "  <tbody>\n",
       "    <tr>\n",
       "      <td>review_scores_rating</td>\n",
       "      <td>1.000000</td>\n",
       "      <td>0.621257</td>\n",
       "      <td>0.642882</td>\n",
       "      <td>0.521813</td>\n",
       "      <td>0.540620</td>\n",
       "      <td>0.368423</td>\n",
       "      <td>0.696534</td>\n",
       "      <td>0.055551</td>\n",
       "    </tr>\n",
       "    <tr>\n",
       "      <td>review_scores_accuracy</td>\n",
       "      <td>0.621257</td>\n",
       "      <td>1.000000</td>\n",
       "      <td>0.543345</td>\n",
       "      <td>0.407238</td>\n",
       "      <td>0.423189</td>\n",
       "      <td>0.267605</td>\n",
       "      <td>0.562878</td>\n",
       "      <td>0.019026</td>\n",
       "    </tr>\n",
       "    <tr>\n",
       "      <td>review_scores_cleanliness</td>\n",
       "      <td>0.642882</td>\n",
       "      <td>0.543345</td>\n",
       "      <td>1.000000</td>\n",
       "      <td>0.398696</td>\n",
       "      <td>0.388146</td>\n",
       "      <td>0.277834</td>\n",
       "      <td>0.524354</td>\n",
       "      <td>0.054357</td>\n",
       "    </tr>\n",
       "    <tr>\n",
       "      <td>review_scores_checkin</td>\n",
       "      <td>0.521813</td>\n",
       "      <td>0.407238</td>\n",
       "      <td>0.398696</td>\n",
       "      <td>1.000000</td>\n",
       "      <td>0.696345</td>\n",
       "      <td>0.240903</td>\n",
       "      <td>0.403263</td>\n",
       "      <td>0.007877</td>\n",
       "    </tr>\n",
       "    <tr>\n",
       "      <td>review_scores_communication</td>\n",
       "      <td>0.540620</td>\n",
       "      <td>0.423189</td>\n",
       "      <td>0.388146</td>\n",
       "      <td>0.696345</td>\n",
       "      <td>1.000000</td>\n",
       "      <td>0.284635</td>\n",
       "      <td>0.463772</td>\n",
       "      <td>0.012990</td>\n",
       "    </tr>\n",
       "    <tr>\n",
       "      <td>review_scores_location</td>\n",
       "      <td>0.368423</td>\n",
       "      <td>0.267605</td>\n",
       "      <td>0.277834</td>\n",
       "      <td>0.240903</td>\n",
       "      <td>0.284635</td>\n",
       "      <td>1.000000</td>\n",
       "      <td>0.368252</td>\n",
       "      <td>0.075069</td>\n",
       "    </tr>\n",
       "    <tr>\n",
       "      <td>review_scores_value</td>\n",
       "      <td>0.696534</td>\n",
       "      <td>0.562878</td>\n",
       "      <td>0.524354</td>\n",
       "      <td>0.403263</td>\n",
       "      <td>0.463772</td>\n",
       "      <td>0.368252</td>\n",
       "      <td>1.000000</td>\n",
       "      <td>-0.041776</td>\n",
       "    </tr>\n",
       "    <tr>\n",
       "      <td>price</td>\n",
       "      <td>0.055551</td>\n",
       "      <td>0.019026</td>\n",
       "      <td>0.054357</td>\n",
       "      <td>0.007877</td>\n",
       "      <td>0.012990</td>\n",
       "      <td>0.075069</td>\n",
       "      <td>-0.041776</td>\n",
       "      <td>1.000000</td>\n",
       "    </tr>\n",
       "  </tbody>\n",
       "</table>\n",
       "</div>"
      ],
      "text/plain": [
       "                             review_scores_rating  review_scores_accuracy  \\\n",
       "review_scores_rating                     1.000000                0.621257   \n",
       "review_scores_accuracy                   0.621257                1.000000   \n",
       "review_scores_cleanliness                0.642882                0.543345   \n",
       "review_scores_checkin                    0.521813                0.407238   \n",
       "review_scores_communication              0.540620                0.423189   \n",
       "review_scores_location                   0.368423                0.267605   \n",
       "review_scores_value                      0.696534                0.562878   \n",
       "price                                    0.055551                0.019026   \n",
       "\n",
       "                             review_scores_cleanliness  review_scores_checkin  \\\n",
       "review_scores_rating                          0.642882               0.521813   \n",
       "review_scores_accuracy                        0.543345               0.407238   \n",
       "review_scores_cleanliness                     1.000000               0.398696   \n",
       "review_scores_checkin                         0.398696               1.000000   \n",
       "review_scores_communication                   0.388146               0.696345   \n",
       "review_scores_location                        0.277834               0.240903   \n",
       "review_scores_value                           0.524354               0.403263   \n",
       "price                                         0.054357               0.007877   \n",
       "\n",
       "                             review_scores_communication  \\\n",
       "review_scores_rating                            0.540620   \n",
       "review_scores_accuracy                          0.423189   \n",
       "review_scores_cleanliness                       0.388146   \n",
       "review_scores_checkin                           0.696345   \n",
       "review_scores_communication                     1.000000   \n",
       "review_scores_location                          0.284635   \n",
       "review_scores_value                             0.463772   \n",
       "price                                           0.012990   \n",
       "\n",
       "                             review_scores_location  review_scores_value  \\\n",
       "review_scores_rating                       0.368423             0.696534   \n",
       "review_scores_accuracy                     0.267605             0.562878   \n",
       "review_scores_cleanliness                  0.277834             0.524354   \n",
       "review_scores_checkin                      0.240903             0.403263   \n",
       "review_scores_communication                0.284635             0.463772   \n",
       "review_scores_location                     1.000000             0.368252   \n",
       "review_scores_value                        0.368252             1.000000   \n",
       "price                                      0.075069            -0.041776   \n",
       "\n",
       "                                price  \n",
       "review_scores_rating         0.055551  \n",
       "review_scores_accuracy       0.019026  \n",
       "review_scores_cleanliness    0.054357  \n",
       "review_scores_checkin        0.007877  \n",
       "review_scores_communication  0.012990  \n",
       "review_scores_location       0.075069  \n",
       "review_scores_value         -0.041776  \n",
       "price                        1.000000  "
      ]
     },
     "execution_count": 36,
     "metadata": {},
     "output_type": "execute_result"
    }
   ],
   "source": [
    "# Created a dataframe with ratings scores\n",
    "\n",
    "df_reviews=df_listing[['review_scores_rating',\n",
    "       'review_scores_accuracy', 'review_scores_cleanliness',\n",
    "       'review_scores_checkin', 'review_scores_communication',\n",
    "       'review_scores_location', 'review_scores_value','price']]\n",
    "\n",
    "# Correlation matrix\n",
    "corr_ratings=df_reviews.corr()\n",
    "corr_ratings"
   ]
  },
  {
   "cell_type": "markdown",
   "metadata": {},
   "source": []
  },
  {
   "cell_type": "code",
   "execution_count": 37,
   "metadata": {},
   "outputs": [
    {
     "data": {
      "image/png": "[encoded data removed]",
      "text/plain": [
       "<Figure size 720x576 with 2 Axes>"
      ]
     },
     "metadata": {
      "needs_background": "light"
     },
     "output_type": "display_data"
    }
   ],
   "source": [
    "def correlation_matrix(df_reviews):\n",
    "    from matplotlib import pyplot as plt\n",
    "    from matplotlib import cm as cm\n",
    "    \"\"\"\n",
    "    Confusion matrix plot helps to get correlation and see the relatioship of each variables with others\n",
    "    In Matrix plot the correlation is color coded from blue to grey to red (from low to high correlation) \n",
    "    Diagonally dark red boxes from top to bottom shows the correlation of the variable with itself.\n",
    "    \n",
    "    \"\"\"\n",
    "\n",
    "\n",
    "\n",
    "    corr=df_reviews.corr()\n",
    "    fig=plt.figure(figsize=(10, 8))\n",
    "    ax=fig.add_subplot(111)\n",
    "    cax = ax.matshow(corr,cmap='coolwarm', vmin=-1, vmax=1)\n",
    "    fig.colorbar(cax)\n",
    "    ticks = np.arange(0,len(df_reviews.columns),1)\n",
    "    ax.set_xticks(ticks)\n",
    "    plt.xticks(rotation=90)\n",
    "    ax.set_yticks(ticks)\n",
    "    ax.set_xticklabels(df_reviews.columns,fontsize=14)\n",
    "    ax.set_yticklabels(df_reviews.columns,fontsize=14)\n",
    "    plt.show()\n",
    "# Creating a confusion matrix for review ratings\n",
    "correlation_matrix(df_reviews)"
   ]
  },
  {
   "cell_type": "markdown",
   "metadata": {},
   "source": [
    "### Reviewer's ratings Observation:\n",
    "__Ratings__: Cleanliness is very important for good rating because Matrix plot represents that Cleanliness has the highest correlation with over all other ratings. Good communication with the customer is highly correlated with the check in rating. . \n",
    "\n",
    "__Ratings and price__: Ratings have little impact on the price charged by the host. Location has a low positive correlation with price."
   ]
  },
  {
   "cell_type": "code",
   "execution_count": 56,
   "metadata": {
    "scrolled": false
   },
   "outputs": [
    {
     "data": {
      "text/html": [
       "<div>\n",
       "<style scoped>\n",
       "    .dataframe tbody tr th:only-of-type {\n",
       "        vertical-align: middle;\n",
       "    }\n",
       "\n",
       "    .dataframe tbody tr th {\n",
       "        vertical-align: top;\n",
       "    }\n",
       "\n",
       "    .dataframe thead th {\n",
       "        text-align: right;\n",
       "    }\n",
       "</style>\n",
       "<table border=\"1\" class=\"dataframe\">\n",
       "  <thead>\n",
       "    <tr style=\"text-align: right;\">\n",
       "      <th></th>\n",
       "      <th>bathrooms</th>\n",
       "      <th>bedrooms</th>\n",
       "      <th>beds</th>\n",
       "      <th>guests_included</th>\n",
       "      <th>minimum_nights</th>\n",
       "      <th>maximum_nights</th>\n",
       "      <th>price</th>\n",
       "    </tr>\n",
       "  </thead>\n",
       "  <tbody>\n",
       "    <tr>\n",
       "      <td>bathrooms</td>\n",
       "      <td>1.000000</td>\n",
       "      <td>0.610937</td>\n",
       "      <td>0.532838</td>\n",
       "      <td>0.304780</td>\n",
       "      <td>0.006358</td>\n",
       "      <td>-0.015322</td>\n",
       "      <td>0.516424</td>\n",
       "    </tr>\n",
       "    <tr>\n",
       "      <td>bedrooms</td>\n",
       "      <td>0.610937</td>\n",
       "      <td>1.000000</td>\n",
       "      <td>0.753167</td>\n",
       "      <td>0.457009</td>\n",
       "      <td>0.011957</td>\n",
       "      <td>-0.008591</td>\n",
       "      <td>0.627720</td>\n",
       "    </tr>\n",
       "    <tr>\n",
       "      <td>beds</td>\n",
       "      <td>0.532838</td>\n",
       "      <td>0.753167</td>\n",
       "      <td>1.000000</td>\n",
       "      <td>0.460512</td>\n",
       "      <td>0.002670</td>\n",
       "      <td>-0.009114</td>\n",
       "      <td>0.589525</td>\n",
       "    </tr>\n",
       "    <tr>\n",
       "      <td>guests_included</td>\n",
       "      <td>0.304780</td>\n",
       "      <td>0.457009</td>\n",
       "      <td>0.460512</td>\n",
       "      <td>1.000000</td>\n",
       "      <td>-0.001659</td>\n",
       "      <td>-0.018637</td>\n",
       "      <td>0.392875</td>\n",
       "    </tr>\n",
       "    <tr>\n",
       "      <td>minimum_nights</td>\n",
       "      <td>0.006358</td>\n",
       "      <td>0.011957</td>\n",
       "      <td>0.002670</td>\n",
       "      <td>-0.001659</td>\n",
       "      <td>1.000000</td>\n",
       "      <td>0.003161</td>\n",
       "      <td>0.017297</td>\n",
       "    </tr>\n",
       "    <tr>\n",
       "      <td>maximum_nights</td>\n",
       "      <td>-0.015322</td>\n",
       "      <td>-0.008591</td>\n",
       "      <td>-0.009114</td>\n",
       "      <td>-0.018637</td>\n",
       "      <td>0.003161</td>\n",
       "      <td>1.000000</td>\n",
       "      <td>-0.003336</td>\n",
       "    </tr>\n",
       "    <tr>\n",
       "      <td>price</td>\n",
       "      <td>0.516424</td>\n",
       "      <td>0.627720</td>\n",
       "      <td>0.589525</td>\n",
       "      <td>0.392875</td>\n",
       "      <td>0.017297</td>\n",
       "      <td>-0.003336</td>\n",
       "      <td>1.000000</td>\n",
       "    </tr>\n",
       "  </tbody>\n",
       "</table>\n",
       "</div>"
      ],
      "text/plain": [
       "                 bathrooms  bedrooms      beds  guests_included  \\\n",
       "bathrooms         1.000000  0.610937  0.532838         0.304780   \n",
       "bedrooms          0.610937  1.000000  0.753167         0.457009   \n",
       "beds              0.532838  0.753167  1.000000         0.460512   \n",
       "guests_included   0.304780  0.457009  0.460512         1.000000   \n",
       "minimum_nights    0.006358  0.011957  0.002670        -0.001659   \n",
       "maximum_nights   -0.015322 -0.008591 -0.009114        -0.018637   \n",
       "price             0.516424  0.627720  0.589525         0.392875   \n",
       "\n",
       "                 minimum_nights  maximum_nights     price  \n",
       "bathrooms              0.006358       -0.015322  0.516424  \n",
       "bedrooms               0.011957       -0.008591  0.627720  \n",
       "beds                   0.002670       -0.009114  0.589525  \n",
       "guests_included       -0.001659       -0.018637  0.392875  \n",
       "minimum_nights         1.000000        0.003161  0.017297  \n",
       "maximum_nights         0.003161        1.000000 -0.003336  \n",
       "price                  0.017297       -0.003336  1.000000  "
      ]
     },
     "execution_count": 56,
     "metadata": {},
     "output_type": "execute_result"
    }
   ],
   "source": [
    "# Created a dataframe with facilities listed\n",
    "\n",
    "df_facilities=df_listing[['bathrooms', 'bedrooms', 'beds','guests_included',\n",
    "       'minimum_nights', 'maximum_nights','price']]\n",
    "\n",
    "# Correlation matrix\n",
    "corr_facl=df_facilities.corr()\n",
    "corr_facl"
   ]
  },
  {
   "cell_type": "code",
   "execution_count": 57,
   "metadata": {},
   "outputs": [
    {
     "data": {
      "image/png": "[encoded data removed]",
      "text/plain": [
       "<Figure size 720x576 with 2 Axes>"
      ]
     },
     "metadata": {
      "needs_background": "light"
     },
     "output_type": "display_data"
    }
   ],
   "source": [
    "#  Create a confusion matrix for facilities\n",
    "correlation_matrix(corr_facl)"
   ]
  },
  {
   "cell_type": "markdown",
   "metadata": {},
   "source": [
    "### Observation:\n",
    "\n",
    "__Facilities and Price__: Beds, bedrooms and bathrooms have positive effect on price but minimum and maximum nights are not showing any impact on pricing."
   ]
  },
  {
   "cell_type": "code",
   "execution_count": null,
   "metadata": {},
   "outputs": [],
   "source": []
  },
  {
   "cell_type": "code",
   "execution_count": null,
   "metadata": {},
   "outputs": [],
   "source": []
  }
 ],
 "metadata": {
  "kernelspec": {
   "display_name": "Python 3",
   "language": "python",
   "name": "python3"
  },
  "language_info": {
   "codemirror_mode": {
    "name": "ipython",
    "version": 3
   },
   "file_extension": ".py",
   "mimetype": "text/x-python",
   "name": "python",
   "nbconvert_exporter": "python",
   "pygments_lexer": "ipython3",
   "version": "3.7.4"
  }
 },
 "nbformat": 4,
 "nbformat_minor": 2
}
